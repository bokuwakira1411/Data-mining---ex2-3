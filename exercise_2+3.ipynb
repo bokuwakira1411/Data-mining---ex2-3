{
  "nbformat": 4,
  "nbformat_minor": 0,
  "metadata": {
    "colab": {
      "provenance": [],
      "include_colab_link": true
    },
    "kernelspec": {
      "name": "python3",
      "display_name": "Python 3"
    },
    "language_info": {
      "name": "python"
    }
  },
  "cells": [
    {
      "cell_type": "markdown",
      "metadata": {
        "id": "view-in-github",
        "colab_type": "text"
      },
      "source": [
        "<a href=\"https://colab.research.google.com/github/bokuwakira1411/Data-mining---ex2-3/blob/main/exercise_2%2B3.ipynb\" target=\"_parent\"><img src=\"https://colab.research.google.com/assets/colab-badge.svg\" alt=\"Open In Colab\"/></a>"
      ]
    },
    {
      "cell_type": "code",
      "execution_count": null,
      "metadata": {
        "colab": {
          "base_uri": "https://localhost:8080/"
        },
        "id": "QsrLihxxA4Vp",
        "outputId": "2157e1a8-2596-43a4-9c95-0188fe332a65"
      },
      "outputs": [
        {
          "output_type": "stream",
          "name": "stdout",
          "text": [
            "Drive already mounted at /content/drive; to attempt to forcibly remount, call drive.mount(\"/content/drive\", force_remount=True).\n"
          ]
        }
      ],
      "source": [
        "from google.colab import drive\n",
        "drive.mount('/content/drive')"
      ]
    },
    {
      "cell_type": "code",
      "source": [
        "import pandas as pd\n",
        "import numpy as np\n",
        "import matplotlib.pyplot as plt"
      ],
      "metadata": {
        "id": "k-Go9EMjwooL"
      },
      "execution_count": null,
      "outputs": []
    },
    {
      "cell_type": "markdown",
      "source": [
        "## Xử lý dữ liệu training set"
      ],
      "metadata": {
        "id": "eo0EQ4Y1CZMx"
      }
    },
    {
      "cell_type": "code",
      "source": [
        "\n",
        "df_train = pd.read_csv(\"/content/labeled_train.csv\")\n",
        "df_train.head()"
      ],
      "metadata": {
        "colab": {
          "base_uri": "https://localhost:8080/",
          "height": 206
        },
        "id": "dw9zEL7YBoff",
        "outputId": "592d3901-19db-424a-8af9-cdd748ab0473"
      },
      "execution_count": null,
      "outputs": [
        {
          "output_type": "execute_result",
          "data": {
            "text/plain": [
              "         Date   Time     Open     High      Low    Close  Volume Label\n",
              "0  2011-01-03  01:00  1415.71  1416.54  1415.10  1415.63    1035  SELL\n",
              "1  2011-01-03  02:00  1415.64  1416.43  1414.90  1415.98     736  SELL\n",
              "2  2011-01-03  03:00  1415.95  1417.89  1414.59  1416.54     922  SELL\n",
              "3  2011-01-03  04:00  1416.51  1418.64  1415.25  1416.75    1060  SELL\n",
              "4  2011-01-03  05:00  1416.76  1420.00  1416.76  1419.48     838  SELL"
            ],
            "text/html": [
              "\n",
              "  <div id=\"df-8aeb03d8-60e1-4ea8-9937-b60d1668b93c\" class=\"colab-df-container\">\n",
              "    <div>\n",
              "<style scoped>\n",
              "    .dataframe tbody tr th:only-of-type {\n",
              "        vertical-align: middle;\n",
              "    }\n",
              "\n",
              "    .dataframe tbody tr th {\n",
              "        vertical-align: top;\n",
              "    }\n",
              "\n",
              "    .dataframe thead th {\n",
              "        text-align: right;\n",
              "    }\n",
              "</style>\n",
              "<table border=\"1\" class=\"dataframe\">\n",
              "  <thead>\n",
              "    <tr style=\"text-align: right;\">\n",
              "      <th></th>\n",
              "      <th>Date</th>\n",
              "      <th>Time</th>\n",
              "      <th>Open</th>\n",
              "      <th>High</th>\n",
              "      <th>Low</th>\n",
              "      <th>Close</th>\n",
              "      <th>Volume</th>\n",
              "      <th>Label</th>\n",
              "    </tr>\n",
              "  </thead>\n",
              "  <tbody>\n",
              "    <tr>\n",
              "      <th>0</th>\n",
              "      <td>2011-01-03</td>\n",
              "      <td>01:00</td>\n",
              "      <td>1415.71</td>\n",
              "      <td>1416.54</td>\n",
              "      <td>1415.10</td>\n",
              "      <td>1415.63</td>\n",
              "      <td>1035</td>\n",
              "      <td>SELL</td>\n",
              "    </tr>\n",
              "    <tr>\n",
              "      <th>1</th>\n",
              "      <td>2011-01-03</td>\n",
              "      <td>02:00</td>\n",
              "      <td>1415.64</td>\n",
              "      <td>1416.43</td>\n",
              "      <td>1414.90</td>\n",
              "      <td>1415.98</td>\n",
              "      <td>736</td>\n",
              "      <td>SELL</td>\n",
              "    </tr>\n",
              "    <tr>\n",
              "      <th>2</th>\n",
              "      <td>2011-01-03</td>\n",
              "      <td>03:00</td>\n",
              "      <td>1415.95</td>\n",
              "      <td>1417.89</td>\n",
              "      <td>1414.59</td>\n",
              "      <td>1416.54</td>\n",
              "      <td>922</td>\n",
              "      <td>SELL</td>\n",
              "    </tr>\n",
              "    <tr>\n",
              "      <th>3</th>\n",
              "      <td>2011-01-03</td>\n",
              "      <td>04:00</td>\n",
              "      <td>1416.51</td>\n",
              "      <td>1418.64</td>\n",
              "      <td>1415.25</td>\n",
              "      <td>1416.75</td>\n",
              "      <td>1060</td>\n",
              "      <td>SELL</td>\n",
              "    </tr>\n",
              "    <tr>\n",
              "      <th>4</th>\n",
              "      <td>2011-01-03</td>\n",
              "      <td>05:00</td>\n",
              "      <td>1416.76</td>\n",
              "      <td>1420.00</td>\n",
              "      <td>1416.76</td>\n",
              "      <td>1419.48</td>\n",
              "      <td>838</td>\n",
              "      <td>SELL</td>\n",
              "    </tr>\n",
              "  </tbody>\n",
              "</table>\n",
              "</div>\n",
              "    <div class=\"colab-df-buttons\">\n",
              "\n",
              "  <div class=\"colab-df-container\">\n",
              "    <button class=\"colab-df-convert\" onclick=\"convertToInteractive('df-8aeb03d8-60e1-4ea8-9937-b60d1668b93c')\"\n",
              "            title=\"Convert this dataframe to an interactive table.\"\n",
              "            style=\"display:none;\">\n",
              "\n",
              "  <svg xmlns=\"http://www.w3.org/2000/svg\" height=\"24px\" viewBox=\"0 -960 960 960\">\n",
              "    <path d=\"M120-120v-720h720v720H120Zm60-500h600v-160H180v160Zm220 220h160v-160H400v160Zm0 220h160v-160H400v160ZM180-400h160v-160H180v160Zm440 0h160v-160H620v160ZM180-180h160v-160H180v160Zm440 0h160v-160H620v160Z\"/>\n",
              "  </svg>\n",
              "    </button>\n",
              "\n",
              "  <style>\n",
              "    .colab-df-container {\n",
              "      display:flex;\n",
              "      gap: 12px;\n",
              "    }\n",
              "\n",
              "    .colab-df-convert {\n",
              "      background-color: #E8F0FE;\n",
              "      border: none;\n",
              "      border-radius: 50%;\n",
              "      cursor: pointer;\n",
              "      display: none;\n",
              "      fill: #1967D2;\n",
              "      height: 32px;\n",
              "      padding: 0 0 0 0;\n",
              "      width: 32px;\n",
              "    }\n",
              "\n",
              "    .colab-df-convert:hover {\n",
              "      background-color: #E2EBFA;\n",
              "      box-shadow: 0px 1px 2px rgba(60, 64, 67, 0.3), 0px 1px 3px 1px rgba(60, 64, 67, 0.15);\n",
              "      fill: #174EA6;\n",
              "    }\n",
              "\n",
              "    .colab-df-buttons div {\n",
              "      margin-bottom: 4px;\n",
              "    }\n",
              "\n",
              "    [theme=dark] .colab-df-convert {\n",
              "      background-color: #3B4455;\n",
              "      fill: #D2E3FC;\n",
              "    }\n",
              "\n",
              "    [theme=dark] .colab-df-convert:hover {\n",
              "      background-color: #434B5C;\n",
              "      box-shadow: 0px 1px 3px 1px rgba(0, 0, 0, 0.15);\n",
              "      filter: drop-shadow(0px 1px 2px rgba(0, 0, 0, 0.3));\n",
              "      fill: #FFFFFF;\n",
              "    }\n",
              "  </style>\n",
              "\n",
              "    <script>\n",
              "      const buttonEl =\n",
              "        document.querySelector('#df-8aeb03d8-60e1-4ea8-9937-b60d1668b93c button.colab-df-convert');\n",
              "      buttonEl.style.display =\n",
              "        google.colab.kernel.accessAllowed ? 'block' : 'none';\n",
              "\n",
              "      async function convertToInteractive(key) {\n",
              "        const element = document.querySelector('#df-8aeb03d8-60e1-4ea8-9937-b60d1668b93c');\n",
              "        const dataTable =\n",
              "          await google.colab.kernel.invokeFunction('convertToInteractive',\n",
              "                                                    [key], {});\n",
              "        if (!dataTable) return;\n",
              "\n",
              "        const docLinkHtml = 'Like what you see? Visit the ' +\n",
              "          '<a target=\"_blank\" href=https://colab.research.google.com/notebooks/data_table.ipynb>data table notebook</a>'\n",
              "          + ' to learn more about interactive tables.';\n",
              "        element.innerHTML = '';\n",
              "        dataTable['output_type'] = 'display_data';\n",
              "        await google.colab.output.renderOutput(dataTable, element);\n",
              "        const docLink = document.createElement('div');\n",
              "        docLink.innerHTML = docLinkHtml;\n",
              "        element.appendChild(docLink);\n",
              "      }\n",
              "    </script>\n",
              "  </div>\n",
              "\n",
              "\n",
              "<div id=\"df-a680bdce-2eb1-4579-8460-9279174a1895\">\n",
              "  <button class=\"colab-df-quickchart\" onclick=\"quickchart('df-a680bdce-2eb1-4579-8460-9279174a1895')\"\n",
              "            title=\"Suggest charts\"\n",
              "            style=\"display:none;\">\n",
              "\n",
              "<svg xmlns=\"http://www.w3.org/2000/svg\" height=\"24px\"viewBox=\"0 0 24 24\"\n",
              "     width=\"24px\">\n",
              "    <g>\n",
              "        <path d=\"M19 3H5c-1.1 0-2 .9-2 2v14c0 1.1.9 2 2 2h14c1.1 0 2-.9 2-2V5c0-1.1-.9-2-2-2zM9 17H7v-7h2v7zm4 0h-2V7h2v10zm4 0h-2v-4h2v4z\"/>\n",
              "    </g>\n",
              "</svg>\n",
              "  </button>\n",
              "\n",
              "<style>\n",
              "  .colab-df-quickchart {\n",
              "      --bg-color: #E8F0FE;\n",
              "      --fill-color: #1967D2;\n",
              "      --hover-bg-color: #E2EBFA;\n",
              "      --hover-fill-color: #174EA6;\n",
              "      --disabled-fill-color: #AAA;\n",
              "      --disabled-bg-color: #DDD;\n",
              "  }\n",
              "\n",
              "  [theme=dark] .colab-df-quickchart {\n",
              "      --bg-color: #3B4455;\n",
              "      --fill-color: #D2E3FC;\n",
              "      --hover-bg-color: #434B5C;\n",
              "      --hover-fill-color: #FFFFFF;\n",
              "      --disabled-bg-color: #3B4455;\n",
              "      --disabled-fill-color: #666;\n",
              "  }\n",
              "\n",
              "  .colab-df-quickchart {\n",
              "    background-color: var(--bg-color);\n",
              "    border: none;\n",
              "    border-radius: 50%;\n",
              "    cursor: pointer;\n",
              "    display: none;\n",
              "    fill: var(--fill-color);\n",
              "    height: 32px;\n",
              "    padding: 0;\n",
              "    width: 32px;\n",
              "  }\n",
              "\n",
              "  .colab-df-quickchart:hover {\n",
              "    background-color: var(--hover-bg-color);\n",
              "    box-shadow: 0 1px 2px rgba(60, 64, 67, 0.3), 0 1px 3px 1px rgba(60, 64, 67, 0.15);\n",
              "    fill: var(--button-hover-fill-color);\n",
              "  }\n",
              "\n",
              "  .colab-df-quickchart-complete:disabled,\n",
              "  .colab-df-quickchart-complete:disabled:hover {\n",
              "    background-color: var(--disabled-bg-color);\n",
              "    fill: var(--disabled-fill-color);\n",
              "    box-shadow: none;\n",
              "  }\n",
              "\n",
              "  .colab-df-spinner {\n",
              "    border: 2px solid var(--fill-color);\n",
              "    border-color: transparent;\n",
              "    border-bottom-color: var(--fill-color);\n",
              "    animation:\n",
              "      spin 1s steps(1) infinite;\n",
              "  }\n",
              "\n",
              "  @keyframes spin {\n",
              "    0% {\n",
              "      border-color: transparent;\n",
              "      border-bottom-color: var(--fill-color);\n",
              "      border-left-color: var(--fill-color);\n",
              "    }\n",
              "    20% {\n",
              "      border-color: transparent;\n",
              "      border-left-color: var(--fill-color);\n",
              "      border-top-color: var(--fill-color);\n",
              "    }\n",
              "    30% {\n",
              "      border-color: transparent;\n",
              "      border-left-color: var(--fill-color);\n",
              "      border-top-color: var(--fill-color);\n",
              "      border-right-color: var(--fill-color);\n",
              "    }\n",
              "    40% {\n",
              "      border-color: transparent;\n",
              "      border-right-color: var(--fill-color);\n",
              "      border-top-color: var(--fill-color);\n",
              "    }\n",
              "    60% {\n",
              "      border-color: transparent;\n",
              "      border-right-color: var(--fill-color);\n",
              "    }\n",
              "    80% {\n",
              "      border-color: transparent;\n",
              "      border-right-color: var(--fill-color);\n",
              "      border-bottom-color: var(--fill-color);\n",
              "    }\n",
              "    90% {\n",
              "      border-color: transparent;\n",
              "      border-bottom-color: var(--fill-color);\n",
              "    }\n",
              "  }\n",
              "</style>\n",
              "\n",
              "  <script>\n",
              "    async function quickchart(key) {\n",
              "      const quickchartButtonEl =\n",
              "        document.querySelector('#' + key + ' button');\n",
              "      quickchartButtonEl.disabled = true;  // To prevent multiple clicks.\n",
              "      quickchartButtonEl.classList.add('colab-df-spinner');\n",
              "      try {\n",
              "        const charts = await google.colab.kernel.invokeFunction(\n",
              "            'suggestCharts', [key], {});\n",
              "      } catch (error) {\n",
              "        console.error('Error during call to suggestCharts:', error);\n",
              "      }\n",
              "      quickchartButtonEl.classList.remove('colab-df-spinner');\n",
              "      quickchartButtonEl.classList.add('colab-df-quickchart-complete');\n",
              "    }\n",
              "    (() => {\n",
              "      let quickchartButtonEl =\n",
              "        document.querySelector('#df-a680bdce-2eb1-4579-8460-9279174a1895 button');\n",
              "      quickchartButtonEl.style.display =\n",
              "        google.colab.kernel.accessAllowed ? 'block' : 'none';\n",
              "    })();\n",
              "  </script>\n",
              "</div>\n",
              "\n",
              "    </div>\n",
              "  </div>\n"
            ],
            "application/vnd.google.colaboratory.intrinsic+json": {
              "type": "dataframe",
              "variable_name": "df_train"
            }
          },
          "metadata": {},
          "execution_count": 4
        }
      ]
    },
    {
      "cell_type": "code",
      "source": [
        "df_train.isnull().sum()"
      ],
      "metadata": {
        "colab": {
          "base_uri": "https://localhost:8080/",
          "height": 335
        },
        "id": "Uh11TNwEFVlV",
        "outputId": "9dffb3fe-34d2-4052-8f81-43c46f569c18"
      },
      "execution_count": null,
      "outputs": [
        {
          "output_type": "execute_result",
          "data": {
            "text/plain": [
              "Date      0\n",
              "Time      0\n",
              "Open      0\n",
              "High      0\n",
              "Low       0\n",
              "Close     0\n",
              "Volume    0\n",
              "Label     0\n",
              "dtype: int64"
            ],
            "text/html": [
              "<div>\n",
              "<style scoped>\n",
              "    .dataframe tbody tr th:only-of-type {\n",
              "        vertical-align: middle;\n",
              "    }\n",
              "\n",
              "    .dataframe tbody tr th {\n",
              "        vertical-align: top;\n",
              "    }\n",
              "\n",
              "    .dataframe thead th {\n",
              "        text-align: right;\n",
              "    }\n",
              "</style>\n",
              "<table border=\"1\" class=\"dataframe\">\n",
              "  <thead>\n",
              "    <tr style=\"text-align: right;\">\n",
              "      <th></th>\n",
              "      <th>0</th>\n",
              "    </tr>\n",
              "  </thead>\n",
              "  <tbody>\n",
              "    <tr>\n",
              "      <th>Date</th>\n",
              "      <td>0</td>\n",
              "    </tr>\n",
              "    <tr>\n",
              "      <th>Time</th>\n",
              "      <td>0</td>\n",
              "    </tr>\n",
              "    <tr>\n",
              "      <th>Open</th>\n",
              "      <td>0</td>\n",
              "    </tr>\n",
              "    <tr>\n",
              "      <th>High</th>\n",
              "      <td>0</td>\n",
              "    </tr>\n",
              "    <tr>\n",
              "      <th>Low</th>\n",
              "      <td>0</td>\n",
              "    </tr>\n",
              "    <tr>\n",
              "      <th>Close</th>\n",
              "      <td>0</td>\n",
              "    </tr>\n",
              "    <tr>\n",
              "      <th>Volume</th>\n",
              "      <td>0</td>\n",
              "    </tr>\n",
              "    <tr>\n",
              "      <th>Label</th>\n",
              "      <td>0</td>\n",
              "    </tr>\n",
              "  </tbody>\n",
              "</table>\n",
              "</div><br><label><b>dtype:</b> int64</label>"
            ]
          },
          "metadata": {},
          "execution_count": 5
        }
      ]
    },
    {
      "cell_type": "code",
      "source": [
        "df_train['Date Time'] = pd.to_datetime(df_train['Date'] + ' ' + df_train['Time'])\n",
        "df_train = df_train.set_index('Date Time').drop(columns=['Date', 'Time'])\n",
        "df_train.head()"
      ],
      "metadata": {
        "id": "ETZFfYqyQcbx"
      },
      "execution_count": null,
      "outputs": []
    },
    {
      "cell_type": "markdown",
      "source": [
        "# Line plot"
      ],
      "metadata": {
        "id": "t_5ltk0lQx_1"
      }
    },
    {
      "cell_type": "code",
      "source": [
        "df_train.dtypes"
      ],
      "metadata": {
        "id": "AgJv3XF5Rxx1"
      },
      "execution_count": null,
      "outputs": []
    },
    {
      "cell_type": "code",
      "source": [
        "import pandas as pd\n",
        "import matplotlib.pyplot as plt"
      ],
      "metadata": {
        "id": "izcCfzc6RHsq"
      },
      "execution_count": null,
      "outputs": []
    },
    {
      "cell_type": "code",
      "source": [
        "df_train['Open'].plot(title='Giá Open theo thời gian', marker='o',figsize=(12, 6))\n",
        "plt.xlabel('Thời gian')\n",
        "plt.ylabel('Open Price')\n",
        "plt.grid(True)\n",
        "plt.show()\n"
      ],
      "metadata": {
        "id": "46PB2mprTEnB"
      },
      "execution_count": null,
      "outputs": []
    },
    {
      "cell_type": "code",
      "source": [
        "df_train['Close'].plot(title='Giá Close theo thời gian', marker='o',figsize=(12, 6))\n",
        "plt.xlabel('Thời gian')\n",
        "plt.ylabel('Close Price')\n",
        "plt.grid(True)\n",
        "plt.show()\n"
      ],
      "metadata": {
        "id": "rThHVQ-bRUse"
      },
      "execution_count": null,
      "outputs": []
    },
    {
      "cell_type": "code",
      "source": [
        "df_train['High'].plot(title='Giá High theo thời gian', marker='o',figsize=(12, 6))\n",
        "plt.xlabel('Thời gian')\n",
        "plt.ylabel('High Price')\n",
        "plt.grid(True)\n",
        "plt.show()\n"
      ],
      "metadata": {
        "id": "0xvlMqmvTHeb"
      },
      "execution_count": null,
      "outputs": []
    },
    {
      "cell_type": "code",
      "source": [
        "df_train['Low'].plot(title='Giá Low theo thời gian', marker='o',figsize=(12, 6))\n",
        "plt.xlabel('Thời gian')\n",
        "plt.ylabel('Low Price')\n",
        "plt.grid(True)\n",
        "plt.show()\n"
      ],
      "metadata": {
        "id": "H9Sj9mDwTQmZ"
      },
      "execution_count": null,
      "outputs": []
    },
    {
      "cell_type": "markdown",
      "source": [
        "### Sample dữ liệu bị thiếu"
      ],
      "metadata": {
        "id": "-jhyETmLjwEd"
      }
    },
    {
      "cell_type": "code",
      "source": [
        "# Xử lý thiếu dữ liệu bằng phương pháp forward fill cho 10 phút ngay sau, nếu vẫn cần sample tiếp thì sử dụng interpolate time.\n",
        "\n",
        "df_train['source'] = 'original'     # Thêm cột đánh dấu là dữ liệu sample hay original\n",
        "df_train_resampled = df_train.resample('1T').ffill(limit=10)\n",
        "df_train_resampled = df_train_resampled.interpolate(method='time')\n",
        "\n",
        "# # Đánh dấu các dòng nào là original (có trong index gốc)\n",
        "df_train_resampled['source'] = df_train_resampled.index.isin(df_train.index)\n",
        "df_train_resampled['source'] = df_train_resampled['source'].map({True: 'original', False: 'sampled'})\n",
        "\n",
        "df_train_resampled.iloc[55:65]"
      ],
      "metadata": {
        "id": "3apaaWfVFwuo"
      },
      "execution_count": null,
      "outputs": []
    },
    {
      "cell_type": "code",
      "source": [
        "print(df_train.shape)\n",
        "print(df_train_resampled.shape)"
      ],
      "metadata": {
        "id": "rGknXw5fl6MS"
      },
      "execution_count": null,
      "outputs": []
    },
    {
      "cell_type": "markdown",
      "source": [
        "### Tính toán để gán Label cho dữ liệu vừa sample được"
      ],
      "metadata": {
        "id": "oUNGkIAnj_Ll"
      }
    },
    {
      "cell_type": "code",
      "source": [
        "# Gán label cho dữ liệu đã sample (chỉ dữ liệu sử dụng interpolate time,\n",
        "# vì dữ liệu sample 10 phút ban đầu bằng bfill chỉ điền giống dữ liệu gần nhất nên không cần gán lại Label)\n",
        "\n",
        "delta_minutes = 30\n",
        "threshold = 0.000505\n",
        "df_train_resampled['price_future'] = df_train_resampled['Close'].shift(-delta_minutes)\n",
        "\n",
        "mask_no_label = df_train_resampled['Label'].isna()\n",
        "\n",
        "df_train_resampled.loc[mask_no_label, 'Label'] = np.select(\n",
        "    [\n",
        "        df_train_resampled.loc[mask_no_label, 'price_future'] > df_train_resampled.loc[mask_no_label, 'Close'] * (1 + threshold),\n",
        "        df_train_resampled.loc[mask_no_label, 'price_future'] < df_train_resampled.loc[mask_no_label, 'Close'] * (1 - threshold)\n",
        "    ],\n",
        "    ['BUY', 'SELL'],\n",
        "    default='HOLD'\n",
        ")\n",
        "df_train_resampled.drop(columns='price_future', inplace= True)\n",
        "df_train_resampled.iloc[55:65]"
      ],
      "metadata": {
        "id": "3G5tGX8tOL3G"
      },
      "execution_count": null,
      "outputs": []
    },
    {
      "cell_type": "markdown",
      "source": [
        "### Tính toán các cột dữ liệu thành % thay đổi so với thời điểm ngay trước"
      ],
      "metadata": {
        "id": "dZUocigMkqHf"
      }
    },
    {
      "cell_type": "code",
      "source": [
        "change_cols = ['Open', 'High', 'Low', 'Close', 'Volume']\n",
        "\n",
        "df = df_train_resampled.copy()\n",
        "\n",
        "# Tính phần trăm thay đổi (returns) cho từng cột\n",
        "for col in change_cols:\n",
        "    df[f'{col}_return'] = df[col].pct_change()\n",
        "\n",
        "# Loại bỏ dòng đầu tiên (vì không có dữ liệu để tính % thay đổi)\n",
        "df_train_return = df.dropna(subset=[f'{col}_return' for col in change_cols])\n",
        "\n",
        "df_train_return.drop(columns=['Open', 'High', 'Low', 'Close', 'Volume'], inplace=True)\n",
        "\n",
        "df_train_return.tail()"
      ],
      "metadata": {
        "id": "HPNuL1xPeFRW"
      },
      "execution_count": null,
      "outputs": []
    },
    {
      "cell_type": "markdown",
      "source": [
        "### Tính toán các chỉ số kỹ thuật\n"
      ],
      "metadata": {
        "id": "VZD3kpR4PNfd"
      }
    },
    {
      "cell_type": "code",
      "source": [
        "import pandas as pd\n",
        "import numpy as np\n",
        "import matplotlib.pyplot as plt\n",
        "from datetime import datetime\n",
        "\n",
        "def calculate_all_technical_indicators(df):\n",
        "    # Tạo bản copy để không thay đổi dataframe gốc\n",
        "    df = df.copy()\n",
        "\n",
        "    # 1. MACD (Moving Average Convergence Divergence)\n",
        "    df['EMA_12'] = df['Close'].ewm(span=12, adjust=False).mean()\n",
        "    df['EMA_26'] = df['Close'].ewm(span=26, adjust=False).mean()\n",
        "    df['MACD'] = df['EMA_12'] - df['EMA_26']\n",
        "    df['MACD_Signal'] = df['MACD'].ewm(span=9, adjust=False).mean()\n",
        "    df['MACD_Hist'] = df['MACD'] - df['MACD_Signal']\n",
        "\n",
        "    # 2. RSI (Relative Strength Index)\n",
        "    delta = df['Close'].diff()\n",
        "    gain = delta.where(delta > 0, 0)\n",
        "    loss = -delta.where(delta < 0, 0)\n",
        "    avg_gain = gain.rolling(window=14).mean()\n",
        "    avg_loss = loss.rolling(window=14).mean()\n",
        "    rs = avg_gain / avg_loss\n",
        "    df['RSI'] = 100 - (100 / (1 + rs))\n",
        "\n",
        "    # 3. Bollinger Bands\n",
        "    df['SMA_20'] = df['Close'].rolling(window=20).mean()\n",
        "    df['BB_upper'] = df['SMA_20'] + 2 * df['Close'].rolling(window=20).std()\n",
        "    df['BB_lower'] = df['SMA_20'] - 2 * df['Close'].rolling(window=20).std()\n",
        "    df['BB_width'] = df['BB_upper'] - df['BB_lower']\n",
        "\n",
        "    # 4. Ichimoku Cloud\n",
        "    # Tenkan-sen (Conversion Line)\n",
        "    nine_period_high = df['High'].rolling(window=9).max()\n",
        "    nine_period_low = df['Low'].rolling(window=9).min()\n",
        "    df['Tenkan_sen'] = (nine_period_high + nine_period_low) / 2\n",
        "\n",
        "    # Kijun-sen (Base Line)\n",
        "    twenty_six_period_high = df['High'].rolling(window=26).max()\n",
        "    twenty_six_period_low = df['Low'].rolling(window=26).min()\n",
        "    df['Kijun_sen'] = (twenty_six_period_high + twenty_six_period_low) / 2\n",
        "\n",
        "    # Senkou Span A (Leading Span A)\n",
        "    df['Senkou_A'] = ((df['Tenkan_sen'] + df['Kijun_sen']) / 2).shift(26)\n",
        "\n",
        "    # Senkou Span B (Leading Span B)\n",
        "    fifty_two_period_high = df['High'].rolling(window=52).max()\n",
        "    fifty_two_period_low = df['Low'].rolling(window=52).min()\n",
        "    df['Senkou_B'] = ((fifty_two_period_high + fifty_two_period_low) / 2).shift(26)\n",
        "\n",
        "    # Chikou Span (Lagging Span)\n",
        "    df['Chikou_span'] = df['Close'].shift(-26)\n",
        "\n",
        "    # 5. ATR (Average True Range)\n",
        "    high_low = df['High'] - df['Low']\n",
        "    high_close = np.abs(df['High'] - df['Close'].shift())\n",
        "    low_close = np.abs(df['Low'] - df['Close'].shift())\n",
        "    ranges = pd.concat([high_low, high_close, low_close], axis=1)\n",
        "    true_range = np.max(ranges, axis=1)\n",
        "    df['ATR'] = true_range.rolling(window=14).mean()\n",
        "\n",
        "    # Xóa các cột trung gian không cần thiết\n",
        "    df.drop(['EMA_12', 'EMA_26', 'SMA_20'], axis=1, inplace=True, errors='ignore')\n",
        "\n",
        "    return df\n",
        "\n",
        "# Tính toán tất cả chỉ báo\n",
        "df_train_with_indicators = calculate_all_technical_indicators(df_train_resampled)"
      ],
      "metadata": {
        "id": "MoDLz6GePHRz"
      },
      "execution_count": null,
      "outputs": []
    },
    {
      "cell_type": "code",
      "source": [
        "df_train_with_indicators.dropna(inplace=True)\n",
        "df_train_with_indicators.head()"
      ],
      "metadata": {
        "id": "yk9F4e0LPPUT"
      },
      "execution_count": null,
      "outputs": []
    },
    {
      "cell_type": "markdown",
      "source": [
        "### Chuẩn hoá dữ liệu Z-score, đưa dữ liệu về phân phối có trung bình = 0 và độ lệch chuẩn = 1"
      ],
      "metadata": {
        "id": "32eihEhzk5ld"
      }
    },
    {
      "cell_type": "code",
      "source": [
        "from sklearn.preprocessing import StandardScaler\n",
        "\n",
        "feature_cols = [\n",
        "    'Open', 'High', 'Low', 'Close', 'Volume',\n",
        "    'MACD', 'MACD_Signal', 'MACD_Hist',\n",
        "    'RSI', 'BB_upper', 'BB_lower', 'BB_width',\n",
        "    'Tenkan_sen', 'Kijun_sen', 'Senkou_A', 'Senkou_B',\n",
        "    'Chikou_span', 'ATR'\n",
        "]\n",
        "scaler = StandardScaler()\n",
        "\n",
        "# Fit và transform\n",
        "df_train_with_indicators[feature_cols] = scaler.fit_transform(df_train_with_indicators[feature_cols])\n",
        "df_train_with_indicators.tail()"
      ],
      "metadata": {
        "id": "bGTGZsKVTCTF"
      },
      "execution_count": null,
      "outputs": []
    },
    {
      "cell_type": "markdown",
      "source": [
        "## Xử lý dữ liệu development set"
      ],
      "metadata": {
        "id": "Urcnx4mOCq4A"
      }
    },
    {
      "cell_type": "code",
      "source": [
        "df_dev = pd.read_csv(\"/content/labeled_dev.csv\")\n",
        "df_dev.head()"
      ],
      "metadata": {
        "id": "cP2BIwfoCBHa"
      },
      "execution_count": null,
      "outputs": []
    },
    {
      "cell_type": "code",
      "source": [
        "df_dev.isnull().sum()"
      ],
      "metadata": {
        "id": "ozq2zmgmCSv_"
      },
      "execution_count": null,
      "outputs": []
    },
    {
      "cell_type": "code",
      "source": [
        "df_dev['Date Time'] = pd.to_datetime(df_dev['Date'] + ' ' + df_dev['Time'])\n",
        "df_dev = df_dev.set_index('Date Time').drop(columns=['Date', 'Time'])\n",
        "df_dev.head()"
      ],
      "metadata": {
        "id": "etB7_gE0X_Fw"
      },
      "execution_count": null,
      "outputs": []
    },
    {
      "cell_type": "code",
      "source": [
        "df_dev.shape"
      ],
      "metadata": {
        "id": "F9pUkcLaVhXU"
      },
      "execution_count": null,
      "outputs": []
    },
    {
      "cell_type": "markdown",
      "source": [
        "### Sample dữ liệu"
      ],
      "metadata": {
        "id": "fFu5aLUrocPj"
      }
    },
    {
      "cell_type": "code",
      "source": [
        "# Xử lý thiếu dữ liệu bằng phương pháp forward fill cho 10 phút ngay sau, nếu vẫn cần sample tiếp thì sử dụng interpolate time.\n",
        "\n",
        "df_dev['source'] = 'original'     # Thêm cột đánh dấu là dữ liệu sample hay original\n",
        "df_dev_resampled = df_dev.resample('1T').ffill(limit=10)\n",
        "df_dev_resampled = df_dev_resampled.interpolate(method='time')\n",
        "\n",
        "# # Đánh dấu các dòng nào là original (có trong index gốc)\n",
        "df_dev_resampled['source'] = df_dev_resampled.index.isin(df_dev.index)\n",
        "df_dev_resampled['source'] = df_dev_resampled['source'].map({True: 'original', False: 'sampled'})\n",
        "\n",
        "df_dev_resampled.head()"
      ],
      "metadata": {
        "id": "jA72HjeCl2Sr"
      },
      "execution_count": null,
      "outputs": []
    },
    {
      "cell_type": "code",
      "source": [
        "df_dev_resampled.shape"
      ],
      "metadata": {
        "id": "8nIP8RQFml6u"
      },
      "execution_count": null,
      "outputs": []
    },
    {
      "cell_type": "markdown",
      "source": [
        "### Gán nhãn dữ liệu được sample"
      ],
      "metadata": {
        "id": "bcxu9iRtofzF"
      }
    },
    {
      "cell_type": "code",
      "source": [
        "# Gán label cho dữ liệu đã sample (chỉ dữ liệu sử dụng interpolate time,\n",
        "# vì dữ liệu sample 10 phút ban đầu bằng bfill chỉ điền giống dữ liệu gần nhất nên không cần gán lại Label)\n",
        "\n",
        "delta_minutes = 30\n",
        "threshold = 0.000505\n",
        "df_dev_resampled['price_future'] = df_dev_resampled['Close'].shift(-delta_minutes)\n",
        "\n",
        "mask_no_label = df_dev_resampled['Label'].isna()\n",
        "\n",
        "df_dev_resampled.loc[mask_no_label, 'Label'] = np.select(\n",
        "    [\n",
        "        df_dev_resampled.loc[mask_no_label, 'price_future'] > df_dev_resampled.loc[mask_no_label, 'Close'] * (1 + threshold),\n",
        "        df_dev_resampled.loc[mask_no_label, 'price_future'] < df_dev_resampled.loc[mask_no_label, 'Close'] * (1 - threshold)\n",
        "    ],\n",
        "    ['BUY', 'SELL'],\n",
        "    default='HOLD'\n",
        ")\n",
        "df_dev_resampled.drop(columns='price_future', inplace= True)\n",
        "df_dev_resampled[df_dev_resampled['source']=='sampled'][:5]"
      ],
      "metadata": {
        "id": "MisU0hMlolgG"
      },
      "execution_count": null,
      "outputs": []
    },
    {
      "cell_type": "markdown",
      "source": [
        "### Tính toán % thay đổi"
      ],
      "metadata": {
        "id": "JvB7ZwnepJmA"
      }
    },
    {
      "cell_type": "code",
      "source": [
        "change_cols = ['Open', 'High', 'Low', 'Close', 'Volume']\n",
        "\n",
        "df = df_dev_resampled.copy()\n",
        "\n",
        "# Tính phần trăm thay đổi (returns) cho từng cột\n",
        "for col in change_cols:\n",
        "    df[f'{col}_return'] = df[col].pct_change()\n",
        "\n",
        "# Loại bỏ dòng đầu tiên (vì không có dữ liệu để tính % thay đổi)\n",
        "df_dev_return = df.dropna(subset=[f'{col}_return' for col in change_cols])\n",
        "\n",
        "df_dev_return.drop(columns=['Open', 'High', 'Low', 'Close', 'Volume'], inplace=True)\n",
        "\n",
        "df_dev_return.tail()"
      ],
      "metadata": {
        "id": "dTJhU-JqpIY1"
      },
      "execution_count": null,
      "outputs": []
    },
    {
      "cell_type": "markdown",
      "source": [
        "### Tính toán các chỉ số kỹ thuật\n"
      ],
      "metadata": {
        "id": "49xz_vw3Pg8K"
      }
    },
    {
      "cell_type": "code",
      "source": [
        "df_dev_with_indicators = calculate_all_technical_indicators(df_dev_resampled)\n",
        "df_dev_with_indicators.dropna(inplace=True)\n",
        "df_dev_with_indicators.head()"
      ],
      "metadata": {
        "id": "usk93hL6PXyJ"
      },
      "execution_count": null,
      "outputs": []
    },
    {
      "cell_type": "markdown",
      "source": [
        "### Chuẩn hoá Z-score"
      ],
      "metadata": {
        "id": "FE_NuJE7prd7"
      }
    },
    {
      "cell_type": "code",
      "source": [
        "from sklearn.preprocessing import StandardScaler\n",
        "\n",
        "feature_cols = [\n",
        "    'Open', 'High', 'Low', 'Close', 'Volume',\n",
        "    'MACD', 'MACD_Signal', 'MACD_Hist',\n",
        "    'RSI', 'BB_upper', 'BB_lower', 'BB_width',\n",
        "    'Tenkan_sen', 'Kijun_sen', 'Senkou_A', 'Senkou_B',\n",
        "    'Chikou_span', 'ATR'\n",
        "]\n",
        "scaler = StandardScaler()\n",
        "\n",
        "# Fit và transform\n",
        "df_dev_with_indicators[feature_cols] = scaler.fit_transform(df_dev_with_indicators[feature_cols])\n",
        "df_dev_with_indicators.tail()"
      ],
      "metadata": {
        "id": "xNiDzg3jpneR"
      },
      "execution_count": null,
      "outputs": []
    },
    {
      "cell_type": "markdown",
      "source": [
        "# MÔ HÌNH"
      ],
      "metadata": {
        "id": "gshFh7MbW_Gy"
      }
    },
    {
      "cell_type": "code",
      "source": [
        "df_train_resampled.shape"
      ],
      "metadata": {
        "id": "g3kGI7ElXCKU"
      },
      "execution_count": null,
      "outputs": []
    },
    {
      "cell_type": "markdown",
      "source": [
        "Mã hoá nhãn"
      ],
      "metadata": {
        "id": "CD4BCv1buJOA"
      }
    },
    {
      "cell_type": "code",
      "source": [
        "from sklearn.preprocessing import LabelEncoder\n",
        "le = LabelEncoder()\n",
        "df_train_resampled['Label'] = le.fit_transform(df_train_resampled['Label'])"
      ],
      "metadata": {
        "id": "BpJbhwIruLrj"
      },
      "execution_count": null,
      "outputs": []
    },
    {
      "cell_type": "code",
      "source": [
        "df_train_resampled['Label']"
      ],
      "metadata": {
        "id": "n0VUMwG0ui57"
      },
      "execution_count": null,
      "outputs": []
    },
    {
      "cell_type": "code",
      "source": [
        "df = df_train_resampled.drop(columns = ['source'])"
      ],
      "metadata": {
        "id": "kDsTYEMkveRJ"
      },
      "execution_count": null,
      "outputs": []
    },
    {
      "cell_type": "code",
      "source": [
        "data = df.values\n",
        "features = data[:,1:]\n",
        "labels = data[:, 0]"
      ],
      "metadata": {
        "id": "4bLa3zUnv_1J"
      },
      "execution_count": null,
      "outputs": []
    },
    {
      "cell_type": "code",
      "source": [
        "features.shape"
      ],
      "metadata": {
        "id": "M1zWWF0ow3Vn"
      },
      "execution_count": null,
      "outputs": []
    },
    {
      "cell_type": "code",
      "source": [
        "labels"
      ],
      "metadata": {
        "id": "qtz7CmyVw5vh"
      },
      "execution_count": null,
      "outputs": []
    },
    {
      "cell_type": "code",
      "source": [
        "window_size=10000\n",
        "X, y = [], []\n",
        "for i in range(len(df) - window_size):\n",
        "    x_seq = features[i:i+window_size]\n",
        "    label = labels[i+window_size]  # nhãn tại bước tiếp theo\n",
        "    X.append(x_seq)\n",
        "    y.append(label)\n",
        "\n",
        "X = np.array(X)  # (num_samples, 128, 5)\n",
        "y = np.array(y).astype(np.float32).reshape(-1, 1)  # (num_samples, 1)\n",
        "\n"
      ],
      "metadata": {
        "id": "iaVZtwczxHyk"
      },
      "execution_count": null,
      "outputs": []
    },
    {
      "cell_type": "code",
      "source": [
        "from torch.utils.data import Dataset, DataLoader\n",
        "import torch\n",
        "\n",
        "class SequenceDataset(Dataset):\n",
        "    def __init__(self, X, y):\n",
        "        self.X = torch.tensor(X, dtype=torch.float32)\n",
        "        self.y = torch.tensor(y, dtype=torch.float32)\n",
        "\n",
        "    def __len__(self):\n",
        "        return len(self.X)\n",
        "\n",
        "    def __getitem__(self, idx):\n",
        "        return self.X[idx], self.y[idx]\n"
      ],
      "metadata": {
        "id": "zMjoPDuTydH7"
      },
      "execution_count": null,
      "outputs": []
    },
    {
      "cell_type": "markdown",
      "source": [],
      "metadata": {
        "id": "AMFaFSS_uLN_"
      }
    },
    {
      "cell_type": "markdown",
      "source": [
        "Thiết kế mô hình Transformers (ver 1)\n",
        "- Transformer thông thường + Time2Vec\n",
        "- Tầng Fully Connected sẽ thực hiện tác vụ phân lớp"
      ],
      "metadata": {
        "id": "xJYuNbRLVMKy"
      }
    },
    {
      "cell_type": "markdown",
      "source": [
        "Với 5 triệu dòng, ta nên chia nhỏ để train mô hình, để sử dụng time2vec thì ta cần 1 tầng linear có size k*2 (số giá trị w và phi)"
      ],
      "metadata": {
        "id": "HeBT5nAsW8gN"
      }
    },
    {
      "cell_type": "markdown",
      "source": [
        "![transformer_time2vec-state-of-the-art.jpg](data:image/jpeg;base64,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)"
      ],
      "metadata": {
        "id": "OTKf9u54WDhM"
      }
    },
    {
      "cell_type": "markdown",
      "source": [
        "1. Input -> Time2Vec encoding + positional encoding"
      ],
      "metadata": {
        "id": "e3WSe0AiVpE1"
      }
    },
    {
      "cell_type": "markdown",
      "source": [
        "![Screenshot 2025-04-08 192021.png](data:image/png;base64,iVBORw0KGgoAAAANSUhEUgAAAmQAAABkCAYAAAAojiyVAAAAAXNSR0IArs4c6QAAAARnQU1BAACxjwv8YQUAAAAJcEhZcwAADsMAAA7DAcdvqGQAAChOSURBVHhe7Z09YOLG9vaffRuRCraCreBWkAq2glSQyqSCW0Eqk8rcCm61pHMHb2W2sm4FqaxU1lZoKyuVtRWkMluZrUwq2Mq4mv+MEDZghPn+8vklsxYSCM0gzTwzc+acN4wDgiAIgiAIYmv8P+svQRAEQRAEsSVIkBEEQRAEQWwZEmQEQRAEQRBbhgQZQRAEQRDEliFBRhAEQRAEsWVIkBEEQRAEQWwZEmQEQRAEQRBbhgQZQRAEQRDEliFBRhDT6LbRbnfRs14SBEEQxDogQUYQk2hryEc8ePP2Hd69C6HQtPYTBEEQxBogQUYQI/RglCJwvfsFH7/8AzjDyNUMlAPWYYIgCIJYAxTLkiAeaaOaDOC3T9/NV97UJQwlCY/5iiAIgiDWB42QEYRJF0rcZ4kxCdHzW7RIjBHE0jTkOAK+ELJq19ozhV4TSj6NSMAFl8uFQCSLstG2Dq6YXu8wbENNO9d+6pKx615DgowgOK1SDL9+fjC3vTkDetZnbhMEsQTtEjL/+Yyv3/7G/9JZaNbuSfSMPAKuOIy0DN3QUPD18PXL//Dfn3xIziLm5qDLO1uuH37AD54sDGvf3tFWkQ144ImkcVrVoFVPEQ844IqUYJAw20tIkBFEV0bm97/72+5jVMuh/jZBEMvhCSEgWdsBvm1tPqOrIh37iK+xEsoRFxyuCAp6FUfmZx/Qaq1SYbQgn35C3zChi+5qtd5maOThe/dvqCEZzaYOuZBBpiDDaLUhu07x0w8hlFvWe4m9gWzIiFdPuxTCO0uQ+Yu3aBZodGwqLRnxdAslowSSrsSL9FpoNAFfyAeXtWucVimAf/3+Fd7cDVrDK2i6DegNFyIxHxzWrlXQ1UvIym0kT0tIB1Z55k2gI+P5GX8ghVpTQfxZoapIOv6NT54cblplexFM7Bw0Qka8crpQVWt0DG7E4yTGXsRQ8fmLBm1Npj3EgeHwITRFjInFNIry1doewxVCbMViTOCKFfh3lvdQjPEaSz7FH//w2iqZnyDGBElkkxLw7SMy8j4O/71eSJARr5w2mo/CIsAbDmuTIIgNYcAY9ImIF2hBLv/F/0rmiKMdoVB/XOxLVeFdTmJfIEFGEI84Vt4TJwjiJQ5kteMm6GpQrcFEn89+DbhncOyLOnUhBbFbkCAjiCVpNxqYd/aupVWhGMv3XXtDS97t0wH2kbst6EoV1aoCvUVjALtMr6WjnI3A50hCsfYJ2koWyWSSpxIag33qYJ9IWSgrnRbvosGfO3HPrMuTxtox9Meymtp7dLnQX0vRgL63y0hfIcKonyBeLzcs54VY2MLTEbuw9s5MPce88LLc9b2142XuzoLW9wVZ8c7aOSe3lQTzSoPrfjm5T66tT66AiyN+zsWvfSq8PP3BIru1Xj6nw65O/BPyd2UdJ3aDDqufp1jQPfw7jT1fnTt2dyfSGYsOfsfjmrWvnzrWW5enzj6Ew+ykcsWvK8okuNnxPt4y5rMnyuqF5+9G1EvifRJL1ax9xM5DI2QEsTAtlDIfgZMqTiOLTHa20FwgRmYj78O/fvuEtieIaCKBhJmCcPP/wo+vh9MJCpl9WGtlIJvkSS1gsnWMcN7rwc//a8OfKqJSqfBURIK3PP/8L440zc3sEC6Esgoa7Tp4h2cyLg88nn4aPD0Ol+9xn0j2CwHmoQs1mUG7pEHOxBCKheDBP/jjVF5oqnS2UelZ03yju02xXHUuHvhnaPXN3mAJM4J4pSwxQnaZYJL3mF3N3Y2/5x+V+Pc57Xvp953JowO1FHM6o6x4PdY9vj5hbm+O52YDrGmErHMeZf5c3Xr1nA7/XkkSeR8vmQ47D4M5pw152JUnsXYujl56vi7YkXkczJtbwx3Mnw1vtPL0+w9GmcLnC9wTV+zYOcjPKpLEEpezj67f5LzW52YdIQMLrmUom1gHNEJGEAvRhVzWEDktIzZ3N96B5GkWbrtVna0yQj+8xds3SajWrj46Mvk2Sg0dhcioQW9T0dANRPY41FMLchUonNotc9WQLfRQboq8jxe4C9n8Eb43m5NXlNmWJ/Ea0PhzGsonrdE2/tzKn82tYDK+wAhcDNUuEwMZK0o9qElaSkT0IUFGEIvQVaA0kygkbar0RgEhV9peAAiv5W4uyCZ9vNcDnE74Uxle/Q/jQ7aq4HlUpxZU7Rt8scjyUzwzTceIiZ4e2q1Jx0bTzBMyzTIURwZ2xdkqnaKdr07Iu0UoAK9du2ZbnsThw+/AUBb5Qa9JPLfCawSCSKfJ5yCxW5AgI4hF0DU041kbx4y8V14q4+9eF/z/yTQbaIfikz3dBwpodLtoinh71q4+PkTGRsZM2ryR+erkx5ZtYNoox9/h3bsX0n9Fi/YVH3+acGwsRUqz2bx0dQOO5Hh+BxgoaRGU81Py12iix0XuxM/blidx+LgQLxQeR7HbsgzTi1c0by/udxhPYPD8807GTAZwEhx00+8NJMgIYgEaehOhuN30WhOa8cB75klbwdbSdLgWmjJ5TldV8TcCiCzt1NaDvDFpWmUsXRzx9wZRvJtwbCw1C7MtJjD0NgIThws5ehWteH5qmCZVaSKejlivCGISLVSrwgOthFh2P8W5yzW46n44KlvE6LW1Oc1fGbFbkCAjiAVoNtvweOyq9Aaa34BwJm1T6RsolR3IpMePWn6SFGMOv2ZdKNUvgDs0efpzT+hOifCsyQ3Epk0vNfLIt7I4fTYfuUh5EgeLUUJZOFV1J5G36ynNwKpXWc400DVATM1bm1PhzxPvEnJ84iPEnkCCjCDmpgmj2RN13mQaBn9HEGkbg6iunEc1kMWIHuuqSPsCKDR9aJd/wjtHEuosNbWwieF6TArF9jqIcIirSUWe5LdCQ9UIIWanx3j+4xEVsXJ21FXGouVJHCy6rOAf/tcdy2CwLqStFFCdy5OEjnxg8vT8YsmHzDw3ZiCOiOnx9QGtlv3nhH2niTtm/+wQOwcJshXSVtOI5FftFrmBQiQOuWW9nBV+LWJ4+zH5srwqmYNlP3/gOHiFqKsTSsQUCB/xDX9DUScotkYeof+0kCwMT5l0oWYyMNI6tHwMHmGc/qBDneVW0lTTJmYlBv1bJJDlgurPDDL6WCOjVaEHbMRmq4pk4Fc001WUR5a6LlCe5qiH/Sgdse9okJXv/K8X6cLAVKCFaklDe65FjjHI7cnT84ulLpS5VlnGkRGBwzmtxqPP/mc0rPlMd5y3SebWKN12G13qoOwe/KYgVsDteZR5g0Vm70VpCe4q7MgZZEV79+XPEb52pDDLVSqsYqarKd7PJ3B7ZX2Op2M/P1eKHabD58X8kF0mxPuFt+8nH0J3tRwLCx9F3iiLmh7Kg+zDzfDxE+bn3yNFz0d/i845CyPKKsIpEt/uey1PsMv+0akM/JklLjfoZWtNfsjqlo8l/0mN3VrFVktJz31T3d+wi5Mwc/L3eoVnd2v3I/OW5+0ZC5rvEZ7iyeP/qnnZD1nl0VP/WvyQCQZ+uby5pzqa7wsO+yfbF26LZj0i8jK5tK7Ziah/JP6MTnhDLeW0fo8wO9+7zB82ByDI7tnNRY4lgl7mFKFkJCdz+kWIjBt+ZDOYDivdvMJf5819dczcvBE8m7URNAXZPCLq3r685j7XPrGYIBNOTPufEUlivM/a35ai7JyrrdviUHgfcU8Owhw5+8dHuWedTr/0B5+TZop3UmMp87xhdrbJinVNgoyXKrtMDRxf8jJwus1y8ybOzI5B8STBwn4hQMVxL0ucXds0pnOWp5kf6/ehRmrF3LKif1C2/smdSl63CXFtvid8th6BdPOhL8gencHy6wrO2cndIQadl6MJFVbnPMyPSSxYnDQ8MFzfgYXpZt8pdluQ3XfY3dT7pc4fqkEFPSH5cwt4UZ+TDu/dSe6NjFCYD+HUOH9DzCOi6h/6PS5wsTApGyTIJtBhF4lBT9NK3gSrPI6I3bLz6OhxKXjMLqf+eIPGy81ys4SeHOr1r2lcYTJrE2R97q7PWCrofhK5w4k/a8HUGRsPVDCZGcuzU2PH5j3gZF63dz9jHO4ct+wyl2JR/9gz4vSzaKpo1sud+jk7SYQfPcoPktMfZancGbtaqVjiYl88r7xD9KFS5PdXmB1Pfxh3nEFMVyG8rI7J/S27Kka5uHWycO7KEp7PuTnrjy7Df7L+9pGYix0WZHWzobQfwuYN4tEUMWYliXch1nfPdVglKjGJ97o28mh3LtiRNGMojDlEVH/6TSSbHiMJMls6dzfs6qLG6rznMGmEsXNXZ7WK/fERRPgjcR3eD32B1blmtfq0u/ee3dQueMP14plXy5oF2QAzTIzZgFZYpVZnd7OU4TBzl6f4Tt5QkyA7WDq3V+zi4ordHooQubtmFS58E4mEmVK5yubrA2Jl7Kwguzp2m42knSC7LQbN45I3bN2MvKc1mBYaSW52MstowyLUUrwXL+yIrNcboD8FM4NwmEdE3VZ4T/WEndkNO5Ag2wjCXkpcR9BSxcI+bLC9U2xEkFm/yxJTWIuUZ+WIpiwJgtgOO7nKsqvEEf9DLFC2oasge9pE9PwWvZYBVVV5MtDq3eI82l+B8sQ/0NR5I+TPQhdy6U88eNMobDAeiy+TQRCfUSisME++DGRVRn6SF3hiQzShC2ey8CKe9AGtEk6NOE530Z14vIBiroD0Om+Xpgz1G+C0877/IouUJ69H2pEFYpMSBEEsz84Jsq6ShO/Xz5ZTu8m05RIaaQ36s8rVh6xaxdGYJvvWXIMga8ko/8Wr+2R2s/6fPFlkwzxPvAzIDcUq6M0YgmTdBFAoHUFCG3opi0hEQUSp2sZ23CquGArl9KjfrxXTUjVwPYbAwuEH5i/Priyjm83vtT83giD2l50SZF01jcCvnyC8xUzDldXQrNoMS7nSyIwd8vpWX8U2yzK+wo14etPVtwvJZBD4rkFZtcuzV0kDjcFgrDuw1cbYxTsZvU4LaukUWqsB+dUO1bShKKZLddNh7KLMVZ7tMpJyDNV9DHBIEMRBsDuCTE/D8+8/TU/Kw3z7+CPevHljprjS3+dweaZOY4QCo8ElApFBM6si7XI8nm8kOVyPgZCbpQhcjuFjEYzGSG5D1Xn/XYogPlf4vO5Y2IzJ6SWHfZ5ICE4xFassM/LXQ0tXUK1WoTVfsYdATcNA10oxm2Dfm4Tf2x4Pv7/nclZ5YLSrUMyQgyHEllXIM5VnC+WsjoxaWOuoH0EQxDR2R5D5spArHxB1Wq8tnNEPqFQqZirMKH6MhpjssJASyKatbSShdJsoBq2Xj0RR6XVhWIGQAwWDi6I6cm7+IljEbc/AaIxkA4ZoMAKRiV6Qn9HVTfusN2/eTgid8Ty9/SEGeZpGisVM4fBN1xaM0Se8Q0eQN1wI+Qxkf/wBEfl1eilXZdWaHncjk4+bW8SW8aRROEkhp8ij4aXWhg95VUWG1BhBEFvkjbDst7Z3gCbyvh/xcUhPeXM3aJXn6SZrSDt+wZ+WEVqweItGYaymVZNw/PvTkJ2ahMRlT+weQkXSwZWcMr6f08zD9+NHtFM19JQXGnERSsfzKz7DCb+IN2gZQncbGgxHBPHA8xbH4cugVE5O6a03kPe8x8duCrUeP7+1dwR+XW8yronHm4UQsh4Vel58Az/+hl+f+wTXbXmywJxyrpcRo4KrG4EzR0dXNXrU4L/jexHmiN8BRxdoa3bBwAmCIAhizZhrLXeGUS/CIs0dSuMy8eRQ0taJ6rD36H6SEmOBVcTSfvcJm+gxw1z2D+Z+0Z+G8AYtMf/xBRuKoMPpsPOoxI4uFl1ff8M+mOU0xXO/nasKEUpmLHyI6ZjRecxsvXcs4fbi7kx4jR4t66WS3/IptTR9P3fmOaUjtvBPQRAEQRArYCfdXixOA/m8NfLlzaHesLMJ8SGbj1rbfR4+lfE0a9eFLH+GP1+YHJi123+jxzd9jqMrZ1ANaTCqaQRGRnU0qH95EFjYYDmAkDVoOO/YU1uW0c7mH22ljLJijhCJILTrsJ/y5A0h+leXmqUVGN43UAi874/ESkEUDW1DU2MEQRAEMZmDEmSNfLLfyHqPcdUoTxUYLi5KEiPuMf5CWW71N02XFlHkbVZctZszWm6FTqHKsefTYKoC3RlCbGk/Tk1MCfg/ka4rhtP0IF8GqqpYRuFGLBN5HdN1bRVpz3v8f3MRXwqXLS7Otm7JTxAEQbx2DkeQNfJICjXmz+G6WZ3BuWMShYyw2n/ia1WBkGRGqYxWIo/skgrFFYmNjYz10RQND4HYVhxQBrJlPOoxrYyq0GPCuW380OVYF3qei853/8af/zgRztVw11aQJF+4BEEQxA5wGIJMGM5HPqIdLKLeLCPyTAR1YWgN/u8okUIefmvb5GsZJUOHrHQRz4xb8q8KHYr2sIQH8jGWMHAfrDAUzm0Pf5BIR/njF3yHE8GcArUcB2kxgiAIYlc4AEHWQD70K/TIOZqNwmRhoWURKzWeCyBfFqOmZP+gmkxDcWRQmKLHAqHptmNT0atQvwOhhT2QD/NkSzY3XRnlT0KOBZHNL2+VZc9svtdmTgt750hCvashFwb+/vgL3rkiyOuv09UHQRAEsXvsuSDrQolHIAcqaOnZ5wb83Taaegmx5J/wRCaZ57u4GElg2JTs4Z9/4LMx5n/E1Zd2zcb8jlkNRcN3eBFaar6yCUN8teRYeJStq1Txl9gIpp+mMI0yCvpqncS25fhEX2sLp1iJ535BPHGUjTaui0FI37/g488ehLhQJwiCIIhts1eCrN1qDU079mDkQ/j18wMePv+Gd8Ne9wfp7Tv8+PPv+OtBQsTO5Xcyg/iIcb+9Mf8jgQCXVFy8ccE3H00o2j/A0gb9bfQXevoe/ZrNRxuy/IX/lRDNPwlZVdjO9VYryDzZFa+ybBSWXGXpQKTQQKsi4hw+4O/f33MBTqKMIAiC2C47J8jGTaK6lujpGVkuqsqPnukb+QB+GvYgOxUugGyHvEaN+6VZjPkDMUSEiOMC0VqXORstFZq4ZE8ES4To44XSRPM7v1bhaNbaNR86dDM0TQSZQbTlrgK5xcvi4I37+3gyGoxcP8TWt48RJFWaviQIgiC2x44JsgCS8dGVj9//+BkOlwuunzTeaJZNAdKSuSCaWYxxvJGpKxqfjPvdyEwzHnuEn0+YgH3lAmuOAaW2okB4W3BGIjb+0WbE0CHGdALJRQ3THX3h6/DBZ5ZLF2qmBMfp6Ssw7n8iVK7i2LzdHvApnYVm7t0jhAuPSP4xFidxGPSUJAJZ3XpFEMRrYedGyCKyhg8jSx95c/ndheRlA2WhFpoFxP7z11DYo5eRIvHpI0kD435vGvmpxmMD+PUkRUDMBvQ56k29PyyFSHw52dPUDJ5/L2LJRWVdEqUiL+TvBqrVMvLxGOSIjOpgtOzVEMNp3rrZHv5EaZ/iebZkxCJcQMvl2eKpEnuDI62g6sjAld67LgJBrImuZaZz4LCd5J51bq7YRaXCLq5u2Uai2tzW2MX1HN8kQhDx4nMe2wYces7dNbuo1ZfMjxX2yftCCKEZwh3dd+qsVqmxemckrtNzlgidtPPcfOiHjhIpfL6ae43/zpVcioX9TuZ0Lpb8R0V2ZXcxnQt2JLlZ4nIjTwaxFTrsPAwmpeaoX3aU+vkR83uD7GSW+/X+hl0MPTv+8Ak7u7aLD7c89527zbQvW+D+/oV6fae5ZjlxD0hW3SxSdEX18w6zo4JsP7hMSNNjQK4DM/akxMLnk6N0PrJKEXXIgoznKjV46FfwW9aLwcdYqtKwyBquWKSh/UNp8LlBilYmVagdVolKzJ24PPjK6dXTqbCoJLHUPj94d0UWHNzTL3UQr3PML3lZjneM7zvXZhzg/rMgraHzcc9uKgnm5ucPFtcn+Oajw+q1CzbPuMBkOuwi4TTL7uV4y+ti+bx07u7Y3d0NK/KOicjL3HGt95A9d3uxXZKlLLzf/0BJsXZsAO1Uxjd3BqWXVoISM+KDZ2CI9739uGhkIfQM4qddhHJX4PUQel0xzN5PenZgG+nFh8bT/uHUY/eopZz8PSKSwBXUzHOvv91qElkjhNNycjWOhYndxZWBnPXgz2R6/+wbB3hCCAxWsQf4trX5jK6KdOwjvsZKKEdccLgiKOhVHJmffUCrtezq7xb0arVvopGOwOf4AT/+9gkiUMnW6bWgleLwvXmL97/wun1Z/4gtGaefvve3Rd3S39oMK8yLi1fMHk8PbXPlnBux5HLr6/cCS5gRC3J17Gbw5qZPH66KW9HbnHGqikbIZuSG5bxWDx5H7MLau1rueG/f+o6XRuHuO1NGvvqjee55pslfC1cnLJi6OMBRw0uW4L/5Xo8O3N+yen266clt0T95FKRTZ1dXt2z5ybdrdpZIsETihBVNM40KOzKf+S2OkPG8VVJBc5SOd8KYP1Xh12UdW4oOuyqmWCp3wW42NWu5rrwMRlglXjcf3sP9DBJkS1M3G3R/8YUpxKWxpqpSM05VkSCbkU0IsovHyl9KXFr75qdzHuXn8LJXMHI/Nzc578Heo7WUmLpLcGl2qDx1WDYnPJ+eyY0LsjshDr2WiYKbhU82KJxWzbrzItoece5V2ffuODRluTQhlNUcer8nUZrLKdl8tEox5NsZyDJNVe0duvbomiKWXjRGagty+S8ReBTZVzByTzwRz6bhxKf9WgU8FwYMsQD9wOm1NJTiPrx59xP+q/G6oFjD7X0bhpxGYImYxNtgU3nR1L4bA28k9iraPRJkqyBURqsegxyKQF6DKOsqSUTkAKqGjLk8UzzoKCSTSIqUqc4Xcsgo9z8nEoUXWoomr1T6Fh1RJOPmxvw0y5C/8j5onFd41i7ilRBLm9FEvlQVrDaOxq7QO9B89ek2qkgHXPjhX7/gd8OBVKWOjrC1KsTh2zMhttm8NKDpwsGV83XYj3FIkK0KIcoaWTTUVbvpbELVY1CbynxizBdHIjHkgHYZ405fBIl4hEbmFqIF1QzPwAmnkV6wENtc1H0zfdjN4nWsjUZj3uUJvFLlDb6xgkGY7qSg8OOpe3hNcLelQxGG44qO1koHsyxH1F9UqP0de0WPl0s5Kwzpkxhe/9RWslanr2Q6ujb3qYN9ImWhLLXKZru0RaeWq5S373/Dn90ATi5ucN9tQsmE1lOXdrmAMe8/Y7nFSRPYeF4EbQ26WHUhRfDcdWcXDU0s0lCgL73gY4ewpi4J4pWyZhuyoWX/4fPFrSAuE+IcQTaLuUtd2FN5c+x6ZluOO3Y2WHQQLPJXi9BhV7mwZdQ7W4qer87YZJ02ZPWcnwWn2Yh2rtiJ8A04kj83O1nh2ot6zs3PKbH9cUvWYfXzFAu6h8tk7PnqCLcGIp2ZPh3Fe9zHNWtfP63PbmhdNmT37ObihIWtfEvexFr9qD1S/8DC4RNWuaqz86jE4F6FO6Yt5WVARdjM8u8On43cB52rHIuGj1iucsXqV0UWdvJnbVvePVYMCTLilbNeQXZXDFrnnk1MTca6xlkEh7kS18vFwDxN2ZAgW8gXW4ddHAnDc4k5/WGWMFez8RT1Mknys+jg9XBK5djlCtfBrE2QXZ8wL28QbC/VdNIrys3PUsUKq1R4Kib6zoZXeT1W47Q7PrNmpb/oafrz9SSO9teonwvQSor5nf1zOv0pVlnNksmX6VyyRJA/t9bXmc8Cv4bFOzxbzMsQ/cUso/dE5yLBgolKf+GAWddZ13ggK89JkBGvnHUKsiF3Fy8l3ujbNwtW4+E+YS91BIWzYi+vnOauPu/77hWmCbL7zuSz3gpnuP5jdjG2vEqsCpWONuOKYj2CrMPOo36Wq1svn9EXolK0+NwBZuecheFk09oJu/KcyGXCvE/20XP/xdHgPj9cQXZ3Nuh4OVniYrOi+frEy6KVp3tpUN6LjshvMy9PcCFvjsw9PUNCjPm5GHvsHFnPhFh5Pl8HdHchGzKCWBetKqrW6jHJ6YTzWep7zHSHc7jS8vaB4gf2fx7f9KD0XRllLYLT8gIrkhxJnArntYHQxADzrXIIP7x9izfJMSsm/p2ZagiaIYx9R616NfUvePj59tb2sCWjigJO7ULPalkUemU09QIi45l0ZZE/+o5mc7IxmW152hHwwWtuHLL5+/7iyRu4rRVx5O3h06/v4PDFUdJaG/i1NP7Mh5AfGBjz51H+LDaCSMYXe/K2l5chxuzHumoasWqc1ymZpzqQPzud+hWubpuQY3tby4xAgowg1kSzLOOr2JASUCxv/KOpJ0aoTYPZqfVJuzmTkW5XUdBMFmwXfzQKXByl7QVAIBSA20ZA9Xht7HT6kcrErD0DQjhV5QnXr0LRnQjFbGXmzPS6ExYFjKWWuUigO/HYaOrO3LA0ywocGTs3My2UTtvIV7O2IjkU8MJu4Zl9eU7nodlYucE2sQoc8MUL0Fo9LhIqSDoM/P7Lv/CDJ4Ks0lyfmOF6P5TNPz5/og74S2wE00gvHMxlS3kZRtNg9mV9AUDmoowLMpV3gMaz5ArFENu3parT6A+UEcRrZV1TltfsxDKGXTqenBm/lJ/rBYP7y4R7yhRZ38v/tClEYbx+tCp32LUUkxBmZ0uf7oodW7Ysq0kiLuIstjUiuPeU678+YVH7uUyTi6MVGhvPeA/sIq9hynIS9zcXLHfUt+eC5GWJs+s1/3YDEwlpZApzFWw6LwP7MTM5o+yDGV3BOnjA0AgZQawDtYSqGSjPj3xhFlcVy9KA3gxNWB5u0dRgPPDedDJuO+Kj6a6FpznG0RUND84AQkufLoZq17R1nZpuuKqGlEJtwrHR1IOanKVHbUBv21+/Xm0hnrcrbIEKpRlHeuU//QGNBhw4jkAaZa0FdneNszig/fcnvHvjQ7ykYS2eGgYmElIM2bl8JL3MZvOiQ9H6/seOax3c6Vn0qhm8f/sGjkiJ11SHCwkyglg5XcjlTxBVCqJ5LB0HPhCabjtm0kSz7YHHrh5uNPENYWTsHKEZJZQdmed+0izfRooxz0SZjqr6nau/yER7tP1ATClbm8/QIDdiU6eEGvk8WtlTLifHWKg8n5ACAXtbQ2I38USQV1vodeqopFxo/P4L/vWDB6F0FY0V+qszSmXTRMKdzGNF/arnbCIvbQMN4Ulb2I9FXPCEuBjU26jzTtfDl9/xr/iwN7vDggQZQawao4BT05DDjZNSdgVG7a7+OZoN+2gLTQPNHhcR1stxGgb/ZDBtY1/GBWS+ikA2PXKtwpDWFyig6Wuj/NM7OJLqbPYjhgKNV6je0D6HOwkh5FIga9bLYbQqDJ43Oz3WVeKIqDGUx5T4wuUpMAU1vxNc+1uirx5XCBmlgfb9LWrFELp//ob3bx3wJctYUJ8PoUNWxJC8G7HMwIl3G0phzggts7LGvHRVtW8/FoqPCMtQNtlf2GJoPLcDeB7LysHYVZIgI4gVo5aqMGcrg3msZrYygICoiR66Uyoehxkqywr9NoIpED7y5vxvBeoExdbIh/CfVhKFYbXWVZHJGEjrGvIxjzlR9qCrjzE5p9FUNJ7/1Rj0b48AslxQ/ZnJQB9TTVpVRyA2OZRLq5pE4Ncm0tWxhRpLlKdALAIReAJ2MrBnRkg4wAAIh4fDh3hBQ4vd4fosCYf+X/z07g08kSyU5oI/oCZDEaNK3jQKAxXTqqKktdc7yb2GvBh6P26DNzJmXtFsmZ0S3it5GiXmz1VZtlkByjuoYhHPXsEI4lWzqFH/HatZnulHvLg/OiucZmA/P30jVz+zdxh/yRLie4WH7keb9f41Ovl+bzTa96If/NB3qmjCj5/4+XklFj0fPXHnPMwQrZgLAIQ/MbN8Epf9g1O5ZUXTa/20a1096/FDNnBq6mcntVvWLzaxOMLLxm3PhdHzSdjJ3+tlx7Xn5s6Ll2efq2NxbvtFArWUOC6uNcyWCAixFl426q88euo/JKP+2Rn1iB8+n/96Bs5gvUMLTW5ywZUb97/MsnkZLOKZ4MPv4sg8p5M/N4NciWdpYhSN27NHp7HuVVbEa4YEGfHKWUyQ9RvIweeeGuHB6iBpqNJYBWaDzs8btvW+LZyYDq6HJ+lplZIUPecyaSCUrH1OJ5Osbad5fIz7DuuYXzX4nMRSs6idQaiohTz+L856BBmnc8lSj/eHxJxuUW5ilZnwyl9kJ4kw8wuHuuK4GVrG5ldftDxNrNVztvkbvod3zWv58H1nI9Kvjs1Og/mesTA566IjIjBY3ymeVbunarPcs44IF7XAxdx86AuyR2ewomMYLD5/rjfGgnkZ1B8Sr4vHbwRrpfHT/c3Fm3/C+wSWeDPThuuiZSBBRrxyFhwhu/nwWKEPkuTsiyB36nL1S8Ktikqa1op3LlhizEWEdxBmRHB7zqIjxyUWPL6cXmnzit0v3uvOvRglwMSqCDfloX/A2gSZyR27PhNxGYeW4g8lyR1kqVndAMxbnib90ZxpZXpz1h8JhdfL3OHzjZb9ZG7ZZS7Fov7hjgtPTj+LpopmmJ9O/dwUtOPPkdMfZancGbtaqZoYFa32aR6hvEOI8En82XZGP7BKkd+r4eOVhibbGAPv+zb3sBmnVwqzXOWMnYTD7NjOQ3+nxo7N39v5bPR/lyFBRrxybtiHx4p6vume+5sKS/AGpz/SJDF3MLXG4LvWCNiLvb0Ou7u5Yhe1Orub2D3lx+s1VrE9Psr1iQhqzYXdh/5UUuf6JX9AXLxcbN5n0HoF2YB+o242epUKq9XvZirDYeYvTw5vpCR+fyUuZylULt52QpARm6fDbq8u2AVXsvv7+9+zm1ptyKziOfedOqtdXLHbA7zJSZARr54nJ4Q73js2G+bp8RFXS9+ZrBkY3exkiniXg+3dYiOCzJoyCS/s7Xax8jRtsIRtoPV6KvUcC++RzQxBEE/QKkvi1RNPx9GPKvkAVZ4xtuA2SJaQ9X7HH6UN+eFp6qYzWXjjSPqAVukURvx0eb9qayCQLyF3msU6XfA2+b3xDU4EFvV2u0h5tkoofZYQPp3g02wCLc2Ay9Y7MEEQO40lzAjiFTM8bellL0TE2S5Xx8wtrnEji9E67OJIMm02jk/CzB08MW1/XicD4/RlVjHOX55i9FYKFtlst+QVO44ev+LfaHvcnfUX3awihc/WZfYwG4eUl33jjfiHFxxBvG4aefjef+z7ufGe4LopI7KjUWoaeR/ea1ncNgszePBfHuHfqgcHXB7Xen0a7TLtEkLvfsffbn5vtPm9Ye1ehJnLU9yTER1Zo4HCi4NePeiZCMpJHeqKw+YQsyB8Xq3GCZzD49myQ+VDyst+QYKMICyEA1XPr5/7IY+8x7hqVEede+4MDeR976Fnb9Eo7OD84QHSLoXw7ve/IR1doK2NRjRYDxrSrgz/Xo3/zjNMQXKBHuPXpZb3OToCQbxuSJARxBBdPYvIz/8zY8JBCiKnaijHd9HjvBBlMRiFBoxdNOo6NFoKsgUD8VLZtP9aL2JELA49rfHfl+zBCOK1QIKMIMbp6sjHk/j4RcQiAZz+EyiGvL6AvQvTQjWrIiDn12rMTmyWnl5AoZtHOUlhxAniNUGCjCBs6DWryKRPobV8OG1ykUbtI0EQBLEmSJARBEEQBEFsGfJDRhAEQRAEsWVIkBEEQRAEQWwZEmQEQRAEQRBbhgQZQRAEQRDEliFBRhAEQRAEsWVIkBEEQRAEQWwZEmQEQRAEQRBbhgQZQRAEQRDEliFBRhAEQRAEsWVIkBEEQRAEQWwZEmQEQRAEQRBbhgQZQRAEQRDEliFBRhAEQRAEsWVIkBEEQRAEQWwZEmQEQRAEQRBbhgQZQRAEQRDEVgH+D5qFjn21V5/vAAAAAElFTkSuQmCC)"
      ],
      "metadata": {
        "id": "tsiGfkvPWJQl"
      }
    },
    {
      "cell_type": "code",
      "source": [
        "import torch\n",
        "import torch.nn as nn\n",
        "import math\n",
        "import torch.nn.functional as F"
      ],
      "metadata": {
        "id": "WRzfKazUVmT0"
      },
      "execution_count": null,
      "outputs": []
    },
    {
      "cell_type": "code",
      "source": [
        "class Time2Vec(nn.Module):\n",
        "  def __init__(self, seq_len, kernel_size):\n",
        "    super(Time2Vec, self).__init__()\n",
        "    self.linear = nn.Linear(1,1)      #i = 0\n",
        "    self.seq_len = seq_len\n",
        "    self.periodic = nn.Linear(1, kernel_size-1) # i = 1:k\n",
        "  def forward(self, x):\n",
        "    seq_len = x.size(1)\n",
        "    t = torch.arange(seq_len).float().unsqueeze(1).to(x.device)\n",
        "    lin = self.linear(t)\n",
        "    sin = torch.sin(self.self.periodic(t)) # F: sin\n",
        "    time_embedding = torch.cat([lin, sin], dim=1)  # (seq_len, out_features)\n",
        "    time_embedding = time_embedding.unsqueeze(0).repeat(x.size(0), 1, 1)  # (batch_size, seq_len, out_features)\n",
        "    return time_embedding"
      ],
      "metadata": {
        "id": "M_ViqQDWVcD5"
      },
      "execution_count": null,
      "outputs": []
    },
    {
      "cell_type": "markdown",
      "source": [
        "Các chỉ số đầu vào:\n",
        "- số lượng đặc trưng: input_dim\n",
        "- số chiều của time2vec: time2vec_dim\n",
        "- số chiều của vector biểu diễn cho mỗi bước thời gian: d_model\n"
      ],
      "metadata": {
        "id": "xOf1WSQNlnRr"
      }
    },
    {
      "cell_type": "code",
      "source": [
        "class Transformer(nn.Module):\n",
        "  def __init__(self,seq_len, input_dim, time2vec_dim, d_model, nhead, num_layers, num_outputs):\n",
        "    super(Transformer, self).__init__()\n",
        "    self.time2vec = Time2Vec(seq_len,time2vec_dim)\n",
        "    encoder_layer = nn.TransformerEncoderLayer(d_model=d_model, nhead=nhead, batch_first=True)\n",
        "    self.encoder = nn.TransformerEncoder(encoder_layer, num_layers=num_layers)\n",
        "    self.global_avg_pool = nn.AdaptiveAvgPool1d(1)\n",
        "    self.dropout = nn.Dropout(0.2)\n",
        "    self.fc1 = nn.Linear(d_model, 32)\n",
        "    self.fc2 = nn.Linear(32,1)\n",
        "  def forward(self, x):\n",
        "    t2v = self.time2vec(x) # (batch_size, seq_len, time2vec_dim)\n",
        "    x = torch.cat([x, t2v], dim=-1) #(batch_size, seq_len, time2vec_dim + input_dim)\n",
        "    x = self.encoder(x)\n",
        "    x = x.transpose(1,2) #(batch_size, total_input_dim, seq_len)\n",
        "    x = self.global_avg_pool(x).squeeze(-1)\n",
        "    x = self.dropout(x)\n",
        "    x = F.relu(self.fc1(x))\n",
        "    x = self.dropout(x)\n",
        "    x = torch.sigmoid(self.fc2(x))\n",
        "    return x"
      ],
      "metadata": {
        "id": "fh-P7AxMlN7v"
      },
      "execution_count": null,
      "outputs": []
    }
  ]
}